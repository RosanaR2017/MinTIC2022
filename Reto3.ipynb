{
  "nbformat": 4,
  "nbformat_minor": 0,
  "metadata": {
    "colab": {
      "name": "Reto3.ipynb",
      "provenance": [],
      "collapsed_sections": [],
      "authorship_tag": "ABX9TyNiynFbVjfYD1cs9TsN+RNC",
      "include_colab_link": true
    },
    "kernelspec": {
      "name": "python3",
      "display_name": "Python 3"
    }
  },
  "cells": [
    {
      "cell_type": "markdown",
      "metadata": {
        "id": "view-in-github",
        "colab_type": "text"
      },
      "source": [
        "<a href=\"https://colab.research.google.com/github/RosanaR2017/MinTIC2022/blob/master/Reto3.ipynb\" target=\"_parent\"><img src=\"https://colab.research.google.com/assets/colab-badge.svg\" alt=\"Open In Colab\"/></a>"
      ]
    },
    {
      "cell_type": "markdown",
      "metadata": {
        "id": "t2KBAX_m5APD"
      },
      "source": [
        "#RETO 3\n",
        "El Centro Comercial Unaleño está muy cerca de crear carrito de compras. Ahora lo que se requiere de su parte es que se puedan agregar un número indefinido de artículos y calcular la cuenta.\n",
        "Se han definido varios comandos para realizar la prueba de la lógica del carrito de compras a bajo nivel. Para esto se definen ahora diferentes comandos que se realizan al momento de realizar una compra y que presentan la siguiente sintaxis: \n",
        "comando&sintaxis_comando\n",
        "\n",
        " Los comandos definidos ahora son:\n",
        "\n",
        " Comando 1:  Añadir ítem al carrito de compras\n",
        "\n",
        " La sintaxis del comando 1 es la siguiente: 1&nombre_articulo&cantidad&precio\n",
        "\n",
        " Comando 2: Generar tirilla de compras\n",
        "\n",
        " La sintaxis del comando 2 es la siguiente: 2&cedula_cliente\n",
        "\n",
        "Esta función debe retornar la tirilla de compras en texto\n",
        "El cálculo de descuento se mantiene y se debe generar la misma tirilla que se generó en el reto anterior, pero incluyendo la cédula del cliente. Dado el valor total de la compra se continúa con la campaña titulada compra más y gasta menos con los siguientes descuentos:\n",
        "Por compras mayores a 150000 lleva un 10% de descuento.\n",
        "Por compras mayores a 300000 lleva un 15% de descuento.\n",
        "Por compras mayores a 700000 lleva un 20% de descuento\n",
        "Al imprimir la tirilla, la aplicación elimina ese carrito de compras y queda disponible para ejecutar de nuevo comandos.\n",
        "Comando 3 – Salir de la aplicación\n",
        "\n",
        "La sintaxis del comando 3 es la siguiente: 3\n",
        "\n",
        " Este comando simplemente permite salir de la aplicación\n",
        "\n",
        "Entrada: Diferentes comandos según el cargue y la impresión de tirillas de venta\n",
        "\n",
        "Salida: Salidas dependiendo del comando especificado anteriormente"
      ]
    },
    {
      "cell_type": "code",
      "metadata": {
        "id": "co-39dnL5Yt1"
      },
      "source": [
        "import sys\n",
        "from math import ceil, floor\n",
        "\n",
        "class Purchase_car():\n",
        "    def __init__(self, client_id, list_of_product):\n",
        "        self.client_id= client_id\n",
        "        self.list_of_product= list_of_product  #List of Products"
      ],
      "execution_count": 110,
      "outputs": []
    },
    {
      "cell_type": "code",
      "metadata": {
        "id": "tOueZ9Nz5wPO"
      },
      "source": [
        "class Product: #Defino el producto   !!!OK\n",
        "    def __init__(self, name, price, quantity):\n",
        "        self.name = name\n",
        "        self.price = price\n",
        "        self.quantity = quantity"
      ],
      "execution_count": 108,
      "outputs": []
    },
    {
      "cell_type": "code",
      "metadata": {
        "id": "upBgvLSUO2ty"
      },
      "source": [
        "def impresion(purcharse_car):\n",
        "  print(\"Centro Comercial Unaleño\n",
        "Compra más y Gasta Menos\n",
        "NIT: 899.999.063\n",
        "Cliente: 1022734737\n",
        "Art Cant Precio)"
      ],
      "execution_count": null,
      "outputs": []
    },
    {
      "cell_type": "code",
      "metadata": {
        "id": "IbNKwsuV51JC"
      },
      "source": [
        "def menu(): #This function display the menu and returns the command.\n",
        "    \n",
        "    print(\"\\n \\u2665 Welcome to the Centro Comercial Unaleño.\\nPlease enter command to select an option \\u2665:\\n\")\n",
        "    \"\"\"List of commands:\"\"\"\n",
        "    c1=\"1&nombre_articulo&cantidad&precio\" #1&Chocolatinas_Cohete&3&300\n",
        "    c2=\"2&cedula_cliente\"  #2&10473657_Jairo Gonza\n",
        "    c3=\"3\"\n",
        "    print(c1,sep=\"\\t\") #Enter the user's name, article,quantity and price.\n",
        "    print(c2,sep=\"\\t\") #Enter client's ID\n",
        "    print(c3,sep=\"\\t\") #End application.\n",
        "\n",
        "    option=input(\"\\nEnter a command from 1 to 3:\").split(\"&\")\n",
        "\n",
        "    return option  #returns the selected command."
      ],
      "execution_count": 109,
      "outputs": []
    },
    {
      "cell_type": "code",
      "metadata": {
        "id": "rlVZr4Z35_V2"
      },
      "source": [
        "def op1check(option,list1):   #This function validates the first input eg: 1&Chocolatinas Cohete&3&300\n",
        "\n",
        "    print(\"Entre a 1\")\n",
        "    print(option[1].replace(\" \",\"\"))\n",
        "\n",
        "    if option[0]==\"1\" and option[1].replace(\" \",\"\").isalpha() ==True and option[2].isnumeric()==True and option[3].isnumeric()==True :\n",
        "      \n",
        "      opt=option[0]\n",
        "      name=option[1] \n",
        "      quantity=option[2]\n",
        "      price=option[3]\n",
        "      p1=Product(name,price,quantity)\n",
        "      print(p1)\n",
        "      list1.append(p1)\n",
        "      return list1, p1,True\n",
        "    else :\n",
        "      return False"
      ],
      "execution_count": 107,
      "outputs": []
    },
    {
      "cell_type": "code",
      "metadata": {
        "id": "dpnH-hQq-gXo"
      },
      "source": [
        "def op2check(option,list_of_product):  #This function validates the 2nd input eg. 2&1022734737\n",
        "  if option[0]==\"2\" and option[1].isnumeric() ==True:\n",
        "    print(option[0])\n",
        "    opt=option[0]\n",
        "    print(option[1])\n",
        "    client_id=option[1]\n",
        "    car=Purchase_car(client_id, list_of_product)\n",
        "    print(*list_of_product)\n",
        "    return  car, True\n",
        "  else:\n",
        "    return False\n",
        "    "
      ],
      "execution_count": 106,
      "outputs": []
    },
    {
      "cell_type": "code",
      "metadata": {
        "id": "9Tor57X4xF10"
      },
      "source": [
        "def op3check(option):   #This function validates the 3rd input eg.\"3\"\n",
        "  if option[0]==\"3\":\n",
        "    return  \"3\",True\n",
        "  else:\n",
        "    option[0]=\"\" \n",
        "    return option"
      ],
      "execution_count": 46,
      "outputs": []
    },
    {
      "cell_type": "code",
      "metadata": {
        "id": "klt5ZkZe6maI",
        "outputId": "a399ceca-7247-4a0b-f252-5abbea58123d",
        "colab": {
          "base_uri": "https://localhost:8080/",
          "height": 1000
        }
      },
      "source": [
        "def main():\n",
        "    # A flag is defined to enter into the while cycle.\n",
        "    option=\"\"\n",
        "    while option!=\"3\":\n",
        "      list1=[]\n",
        "      try: \n",
        "        op1=menu()\n",
        "        print(*op1)\n",
        "        print(type(op1[0]))\n",
        "        print(op1[0])\n",
        "\n",
        "        if op1[0]==\"1\":\n",
        "          print(*op1)\n",
        "          l1, p1, val1 =op1check(op1,list1)\n",
        "          print(\"Nombre producto:\"+p1.name+\" Precio: \"+ p1.price +\" Cantidad:\" + p1.quantity)\n",
        "          print(*l1)\n",
        "        elif op1[0]==\"2\":\n",
        "          car, val2 =op2check(op1,l1)\n",
        "          print(car.client_id,val2)\n",
        "          print(*car.list_of_product)\n",
        "          list1=[]\n",
        "        elif op1[0]==\"3\":\n",
        "          option, val3=op3check(op1)\n",
        "          print(option)\n",
        "          print(val3)\n",
        "        else:\n",
        "          raise ValueError\n",
        "    \n",
        "      except ValueError:\n",
        "            sys.exit(\"You have entered an unvalid command\")\n",
        "                \n",
        "if __name__== \"__main__\" :\n",
        "    main()"
      ],
      "execution_count": null,
      "outputs": [
        {
          "output_type": "stream",
          "text": [
            "\n",
            " ♥ Welcome to the Centro Comercial Unaleño.\n",
            "Please enter command to select an option ♥:\n",
            "\n",
            "1&nombre_articulo&cantidad&precio\n",
            "2&cedula_cliente\n",
            "3\n",
            "\n",
            "Enter a command from 1 to 3:1&Chocolatinas Cohete&3&300\n",
            "1 Chocolatinas Cohete 3 300\n",
            "<class 'str'>\n",
            "1\n",
            "1 Chocolatinas Cohete 3 300\n",
            "Entre a 1\n",
            "ChocolatinasCohete\n",
            "<__main__.Product object at 0x7fe62c87d908>\n",
            "Nombre producto:Chocolatinas Cohete Precio: 300 Cantidad:3\n",
            "<__main__.Product object at 0x7fe62c87d908>\n",
            "\n",
            " ♥ Welcome to the Centro Comercial Unaleño.\n",
            "Please enter command to select an option ♥:\n",
            "\n",
            "1&nombre_articulo&cantidad&precio\n",
            "2&cedula_cliente\n",
            "3\n",
            "\n",
            "Enter a command from 1 to 3:1&Chocolatinas Cohete&3&300\n",
            "1 Chocolatinas Cohete 3 300\n",
            "<class 'str'>\n",
            "1\n",
            "1 Chocolatinas Cohete 3 300\n",
            "Entre a 1\n",
            "ChocolatinasCohete\n",
            "<__main__.Product object at 0x7fe62c7a9d68>\n",
            "Nombre producto:Chocolatinas Cohete Precio: 300 Cantidad:3\n",
            "<__main__.Product object at 0x7fe62c7a9d68>\n",
            "\n",
            " ♥ Welcome to the Centro Comercial Unaleño.\n",
            "Please enter command to select an option ♥:\n",
            "\n",
            "1&nombre_articulo&cantidad&precio\n",
            "2&cedula_cliente\n",
            "3\n",
            "\n",
            "Enter a command from 1 to 3:1&Chocolatinas Cohete&3&300\n",
            "1 Chocolatinas Cohete 3 300\n",
            "<class 'str'>\n",
            "1\n",
            "1 Chocolatinas Cohete 3 300\n",
            "Entre a 1\n",
            "ChocolatinasCohete\n",
            "<__main__.Product object at 0x7fe62c87d908>\n",
            "Nombre producto:Chocolatinas Cohete Precio: 300 Cantidad:3\n",
            "<__main__.Product object at 0x7fe62c87d908>\n",
            "\n",
            " ♥ Welcome to the Centro Comercial Unaleño.\n",
            "Please enter command to select an option ♥:\n",
            "\n",
            "1&nombre_articulo&cantidad&precio\n",
            "2&cedula_cliente\n",
            "3\n",
            "\n",
            "Enter a command from 1 to 3:2&1022734737\n",
            "2 1022734737\n",
            "<class 'str'>\n",
            "2\n",
            "2\n",
            "1022734737\n",
            "<__main__.Product object at 0x7fe62c87d908>\n",
            "1022734737 True\n",
            "<__main__.Product object at 0x7fe62c87d908>\n",
            "\n",
            " ♥ Welcome to the Centro Comercial Unaleño.\n",
            "Please enter command to select an option ♥:\n",
            "\n",
            "1&nombre_articulo&cantidad&precio\n",
            "2&cedula_cliente\n",
            "3\n"
          ],
          "name": "stdout"
        }
      ]
    },
    {
      "cell_type": "code",
      "metadata": {
        "id": "UAmYqYIyAofO",
        "outputId": "41b2b051-5ee4-4349-e724-e5098a470531",
        "colab": {
          "base_uri": "https://localhost:8080/",
          "height": 34
        }
      },
      "source": [
        "print(\"1&Chocolatinas_Cohete&3&300\".replace(\"_\",\" \"))"
      ],
      "execution_count": 53,
      "outputs": [
        {
          "output_type": "stream",
          "text": [
            "1&Chocolatinas Cohete&3&300\n"
          ],
          "name": "stdout"
        }
      ]
    }
  ]
}