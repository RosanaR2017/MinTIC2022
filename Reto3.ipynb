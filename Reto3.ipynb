{
  "nbformat": 4,
  "nbformat_minor": 0,
  "metadata": {
    "colab": {
      "name": "Reto3.ipynb",
      "provenance": [],
      "collapsed_sections": [],
      "include_colab_link": true
    },
    "kernelspec": {
      "name": "python3",
      "display_name": "Python 3"
    }
  },
  "cells": [
    {
      "cell_type": "markdown",
      "metadata": {
        "id": "view-in-github",
        "colab_type": "text"
      },
      "source": [
        "<a href=\"https://colab.research.google.com/github/RosanaR2017/MinTIC2022/blob/master/Reto3.ipynb\" target=\"_parent\"><img src=\"https://colab.research.google.com/assets/colab-badge.svg\" alt=\"Open In Colab\"/></a>"
      ]
    },
    {
      "cell_type": "markdown",
      "metadata": {
        "id": "t2KBAX_m5APD"
      },
      "source": [
        "#RETO 3\n",
        "El Centro Comercial Unaleño está muy cerca de crear carrito de compras. Ahora lo que se requiere de su parte es que se puedan agregar un número indefinido de artículos y calcular la cuenta.\n",
        "Se han definido varios comandos para realizar la prueba de la lógica del carrito de compras a bajo nivel. Para esto se definen ahora diferentes comandos que se realizan al momento de realizar una compra y que presentan la siguiente sintaxis: \n",
        "comando&sintaxis_comando\n",
        "\n",
        " Los comandos definidos ahora son:\n",
        "\n",
        " Comando 1:  Añadir ítem al carrito de compras\n",
        "\n",
        " La sintaxis del comando 1 es la siguiente: 1&nombre_articulo&cantidad&precio\n",
        "\n",
        " Comando 2: Generar tirilla de compras\n",
        "\n",
        " La sintaxis del comando 2 es la siguiente: 2&cedula_cliente\n",
        "\n",
        "Esta función debe retornar la tirilla de compras en texto\n",
        "El cálculo de descuento se mantiene y se debe generar la misma tirilla que se generó en el reto anterior, pero incluyendo la cédula del cliente. Dado el valor total de la compra se continúa con la campaña titulada compra más y gasta menos con los siguientes descuentos:\n",
        "Por compras mayores a 150000 lleva un 10% de descuento.\n",
        "Por compras mayores a 300000 lleva un 15% de descuento.\n",
        "Por compras mayores a 700000 lleva un 20% de descuento\n",
        "Al imprimir la tirilla, la aplicación elimina ese carrito de compras y queda disponible para ejecutar de nuevo comandos.\n",
        "Comando 3 – Salir de la aplicación\n",
        "\n",
        "La sintaxis del comando 3 es la siguiente: 3\n",
        "\n",
        " Este comando simplemente permite salir de la aplicación\n",
        "\n",
        "Entrada: Diferentes comandos según el cargue y la impresión de tirillas de venta\n",
        "\n",
        "Salida: Salidas dependiendo del comando especificado anteriormente"
      ]
    },
    {
      "cell_type": "code",
      "metadata": {
        "id": "co-39dnL5Yt1"
      },
      "source": [
        "import sys\n",
        "from math import ceil, floor\n",
        "\n",
        "class Purchase_car():\n",
        "    def __init__(self, client_id, list_of_product):\n",
        "        self.client_id= client_id\n",
        "        self.list_of_product= list_of_product  #List of Products"
      ],
      "execution_count": 1,
      "outputs": []
    },
    {
      "cell_type": "code",
      "metadata": {
        "id": "tOueZ9Nz5wPO"
      },
      "source": [
        "class Product: #Defino el producto   !!!OK\n",
        "    def __init__(self, name, price, quantity):\n",
        "        self.name = name\n",
        "        self.price = price\n",
        "        self.quantity = quantity"
      ],
      "execution_count": 2,
      "outputs": []
    },
    {
      "cell_type": "code",
      "metadata": {
        "id": "nGqpeyMSlHFk"
      },
      "source": [
        "def discount(Total):  # Cálculo de descuento function\n",
        "  \n",
        "    Total_d=0\n",
        "    descuento=0\n",
        "\n",
        "    if Total > 700000:\n",
        "        descuento=Total*0.2\n",
        "        Total_d=Total-descuento\n",
        "    elif Total > 300000:\n",
        "        descuento=Total*0.15\n",
        "        Total_d=Total-descuento\n",
        "    elif Total > 150000:\n",
        "        descuento=Total*0.1\n",
        "        Total_d=Total-descuento\n",
        "    else:\n",
        "        descuento=0\n",
        "        Total_d=Total\n",
        "    \n",
        "    if (ceil(Total_d)-Total==1): #Si el ceil no me aumenta un peso, no hay necesidad de utilizar la función floor.\n",
        "        descuento=floor(descuento)\n",
        "    else:\n",
        "        descuento=int(descuento)\n",
        "    \n",
        "    return ceil(Total_d),descuento;"
      ],
      "execution_count": 3,
      "outputs": []
    },
    {
      "cell_type": "code",
      "metadata": {
        "id": "upBgvLSUO2ty"
      },
      "source": [
        "def print1(car): #purcharse_car\n",
        " \n",
        "  print(\"Centro Comercial Unaleño\\nCompra más y Gasta Menos\\nNIT: 899.999.063\\nCliente: \",car.client_id,\"\\nArt Cant Precio\",sep=\"\")\n",
        "  Total=0\n",
        "   \n",
        "  for i in car.list_of_product:\n",
        "    Total_price=int(i.quantity)*float(i.price)\n",
        "    Total+=Total_price\n",
        "    print(i.name+\" \"+\"X{}\".format(int(i.quantity))+\" ${0:.0f}\".format(Total_price),sep=\"\")\n",
        "\n",
        "  Total, descuento =discount(Total)\n",
        "  print(\"Total: $\",str(Total), sep=\"\")\n",
        "  print(\"En esta compra tu descuento fue ${0}\".format(descuento))\n",
        "  print(\"Gracias por tu compra\")\n",
        "  print(\"---\")\n",
        "\n",
        "  \n"
      ],
      "execution_count": 4,
      "outputs": []
    },
    {
      "cell_type": "code",
      "metadata": {
        "id": "IbNKwsuV51JC"
      },
      "source": [
        "def menu(): #This function display the menu and returns the command.\n",
        "    \n",
        "  option=input(\"Enter a command: 1&nombre_articulo&cantidad&precio, 2&cedula_cliente, 3 :\").split(\"&\")\n",
        "\n",
        "  return option  #returns the selected command."
      ],
      "execution_count": 5,
      "outputs": []
    },
    {
      "cell_type": "code",
      "metadata": {
        "id": "rlVZr4Z35_V2"
      },
      "source": [
        "def op1check(option,list1):   #This function validates the first input eg: 1&Chocolatinas Cohete&3&300\n",
        "    \n",
        "    if option[0]==\"1\":\n",
        "      name=option[1] \n",
        "      quantity=option[2]\n",
        "      price=option[3]\n",
        "      p1=Product(name,price,quantity)\n",
        "      list1.append(p1)\n",
        "\n",
        "      return list1, p1\n",
        "    else :\n",
        "      sys.exit(\"Invalid ID\")"
      ],
      "execution_count": 6,
      "outputs": []
    },
    {
      "cell_type": "code",
      "metadata": {
        "id": "dpnH-hQq-gXo"
      },
      "source": [
        "def op2check(option,list_of_product):  #This function validates the 2nd input eg. 2&1022734737\n",
        "\n",
        "  if option[0]==\"2\" and option[1].isnumeric() ==True:\n",
        "    client_id=option[1]\n",
        "    car=Purchase_car(client_id, list_of_product)\n",
        "\n",
        "    return car   # returns the purchase car.\n",
        "  else:\n",
        "    return False\n",
        "    "
      ],
      "execution_count": 7,
      "outputs": []
    },
    {
      "cell_type": "code",
      "metadata": {
        "id": "klt5ZkZe6maI",
        "outputId": "52a6884d-3575-4f91-bba8-6d29c43a363a",
        "colab": {
          "base_uri": "https://localhost:8080/",
          "height": 561
        }
      },
      "source": [
        "def main():\n",
        "    # A flag is defined to enter into the while cycle.\n",
        "  option=\"\"\n",
        "  l1=[]\n",
        "  car=Purchase_car(\"\",[])\n",
        "  \n",
        "  while option!=\"3\": \n",
        "      try:\n",
        "        op1=menu()\n",
        "        option= op1[0]\n",
        "\n",
        "        while op1[0]==\"1\":\n",
        "          l1, p1 =op1check(op1,l1)   #l1 is a list and p1 is a product\n",
        "          op1= menu()\n",
        "          option= op1[0]\n",
        "\n",
        "          if op1[0]==\"2\":\n",
        "            car = op2check(op1,l1)  #car is the variable that invocates the function purchase car\n",
        "            print1(car)  # Entering functiong print1\n",
        "            l1=[]\n",
        "            car=Purchase_car(\"\",[])\n",
        "            op1=menu()\n",
        "            option= op1[0]\n",
        "        \n",
        "        if op1[0]==\"3\":\n",
        "          print1(car)\n",
        "          option=\"3\"\n",
        "\n",
        "      except ValueError:\n",
        "            sys.exit(\"You have entered an unvalid command\")\n",
        "\n",
        "  \n",
        "  sys.exit \n",
        "                \n",
        "if __name__== \"__main__\" :\n",
        "    main()"
      ],
      "execution_count": 10,
      "outputs": [
        {
          "output_type": "error",
          "ename": "KeyboardInterrupt",
          "evalue": "ignored",
          "traceback": [
            "\u001b[0;31m---------------------------------------------------------------------------\u001b[0m",
            "\u001b[0;31mKeyboardInterrupt\u001b[0m                         Traceback (most recent call last)",
            "\u001b[0;32m/usr/local/lib/python3.6/dist-packages/ipykernel/kernelbase.py\u001b[0m in \u001b[0;36m_input_request\u001b[0;34m(self, prompt, ident, parent, password)\u001b[0m\n\u001b[1;32m    728\u001b[0m             \u001b[0;32mtry\u001b[0m\u001b[0;34m:\u001b[0m\u001b[0;34m\u001b[0m\u001b[0;34m\u001b[0m\u001b[0m\n\u001b[0;32m--> 729\u001b[0;31m                 \u001b[0mident\u001b[0m\u001b[0;34m,\u001b[0m \u001b[0mreply\u001b[0m \u001b[0;34m=\u001b[0m \u001b[0mself\u001b[0m\u001b[0;34m.\u001b[0m\u001b[0msession\u001b[0m\u001b[0;34m.\u001b[0m\u001b[0mrecv\u001b[0m\u001b[0;34m(\u001b[0m\u001b[0mself\u001b[0m\u001b[0;34m.\u001b[0m\u001b[0mstdin_socket\u001b[0m\u001b[0;34m,\u001b[0m \u001b[0;36m0\u001b[0m\u001b[0;34m)\u001b[0m\u001b[0;34m\u001b[0m\u001b[0;34m\u001b[0m\u001b[0m\n\u001b[0m\u001b[1;32m    730\u001b[0m             \u001b[0;32mexcept\u001b[0m \u001b[0mException\u001b[0m\u001b[0;34m:\u001b[0m\u001b[0;34m\u001b[0m\u001b[0;34m\u001b[0m\u001b[0m\n",
            "\u001b[0;32m/usr/local/lib/python3.6/dist-packages/jupyter_client/session.py\u001b[0m in \u001b[0;36mrecv\u001b[0;34m(self, socket, mode, content, copy)\u001b[0m\n\u001b[1;32m    802\u001b[0m         \u001b[0;32mtry\u001b[0m\u001b[0;34m:\u001b[0m\u001b[0;34m\u001b[0m\u001b[0;34m\u001b[0m\u001b[0m\n\u001b[0;32m--> 803\u001b[0;31m             \u001b[0mmsg_list\u001b[0m \u001b[0;34m=\u001b[0m \u001b[0msocket\u001b[0m\u001b[0;34m.\u001b[0m\u001b[0mrecv_multipart\u001b[0m\u001b[0;34m(\u001b[0m\u001b[0mmode\u001b[0m\u001b[0;34m,\u001b[0m \u001b[0mcopy\u001b[0m\u001b[0;34m=\u001b[0m\u001b[0mcopy\u001b[0m\u001b[0;34m)\u001b[0m\u001b[0;34m\u001b[0m\u001b[0;34m\u001b[0m\u001b[0m\n\u001b[0m\u001b[1;32m    804\u001b[0m         \u001b[0;32mexcept\u001b[0m \u001b[0mzmq\u001b[0m\u001b[0;34m.\u001b[0m\u001b[0mZMQError\u001b[0m \u001b[0;32mas\u001b[0m \u001b[0me\u001b[0m\u001b[0;34m:\u001b[0m\u001b[0;34m\u001b[0m\u001b[0;34m\u001b[0m\u001b[0m\n",
            "\u001b[0;32m/usr/local/lib/python3.6/dist-packages/zmq/sugar/socket.py\u001b[0m in \u001b[0;36mrecv_multipart\u001b[0;34m(self, flags, copy, track)\u001b[0m\n\u001b[1;32m    490\u001b[0m         \"\"\"\n\u001b[0;32m--> 491\u001b[0;31m         \u001b[0mparts\u001b[0m \u001b[0;34m=\u001b[0m \u001b[0;34m[\u001b[0m\u001b[0mself\u001b[0m\u001b[0;34m.\u001b[0m\u001b[0mrecv\u001b[0m\u001b[0;34m(\u001b[0m\u001b[0mflags\u001b[0m\u001b[0;34m,\u001b[0m \u001b[0mcopy\u001b[0m\u001b[0;34m=\u001b[0m\u001b[0mcopy\u001b[0m\u001b[0;34m,\u001b[0m \u001b[0mtrack\u001b[0m\u001b[0;34m=\u001b[0m\u001b[0mtrack\u001b[0m\u001b[0;34m)\u001b[0m\u001b[0;34m]\u001b[0m\u001b[0;34m\u001b[0m\u001b[0;34m\u001b[0m\u001b[0m\n\u001b[0m\u001b[1;32m    492\u001b[0m         \u001b[0;31m# have first part already, only loop while more to receive\u001b[0m\u001b[0;34m\u001b[0m\u001b[0;34m\u001b[0m\u001b[0;34m\u001b[0m\u001b[0m\n",
            "\u001b[0;32mzmq/backend/cython/socket.pyx\u001b[0m in \u001b[0;36mzmq.backend.cython.socket.Socket.recv\u001b[0;34m()\u001b[0m\n",
            "\u001b[0;32mzmq/backend/cython/socket.pyx\u001b[0m in \u001b[0;36mzmq.backend.cython.socket.Socket.recv\u001b[0;34m()\u001b[0m\n",
            "\u001b[0;32mzmq/backend/cython/socket.pyx\u001b[0m in \u001b[0;36mzmq.backend.cython.socket._recv_copy\u001b[0;34m()\u001b[0m\n",
            "\u001b[0;32m/usr/local/lib/python3.6/dist-packages/zmq/backend/cython/checkrc.pxd\u001b[0m in \u001b[0;36mzmq.backend.cython.checkrc._check_rc\u001b[0;34m()\u001b[0m\n",
            "\u001b[0;31mKeyboardInterrupt\u001b[0m: ",
            "\nDuring handling of the above exception, another exception occurred:\n",
            "\u001b[0;31mKeyboardInterrupt\u001b[0m                         Traceback (most recent call last)",
            "\u001b[0;32m<ipython-input-10-8f7165e2bd86>\u001b[0m in \u001b[0;36m<module>\u001b[0;34m()\u001b[0m\n\u001b[1;32m     34\u001b[0m \u001b[0;34m\u001b[0m\u001b[0m\n\u001b[1;32m     35\u001b[0m \u001b[0;32mif\u001b[0m \u001b[0m__name__\u001b[0m\u001b[0;34m==\u001b[0m \u001b[0;34m\"__main__\"\u001b[0m \u001b[0;34m:\u001b[0m\u001b[0;34m\u001b[0m\u001b[0;34m\u001b[0m\u001b[0m\n\u001b[0;32m---> 36\u001b[0;31m     \u001b[0mmain\u001b[0m\u001b[0;34m(\u001b[0m\u001b[0;34m)\u001b[0m\u001b[0;34m\u001b[0m\u001b[0;34m\u001b[0m\u001b[0m\n\u001b[0m",
            "\u001b[0;32m<ipython-input-10-8f7165e2bd86>\u001b[0m in \u001b[0;36mmain\u001b[0;34m()\u001b[0m\n\u001b[1;32m      7\u001b[0m   \u001b[0;32mwhile\u001b[0m \u001b[0moption\u001b[0m\u001b[0;34m!=\u001b[0m\u001b[0;34m\"3\"\u001b[0m\u001b[0;34m:\u001b[0m\u001b[0;34m\u001b[0m\u001b[0;34m\u001b[0m\u001b[0m\n\u001b[1;32m      8\u001b[0m       \u001b[0;32mtry\u001b[0m\u001b[0;34m:\u001b[0m\u001b[0;34m\u001b[0m\u001b[0;34m\u001b[0m\u001b[0m\n\u001b[0;32m----> 9\u001b[0;31m         \u001b[0mop1\u001b[0m\u001b[0;34m=\u001b[0m\u001b[0mmenu\u001b[0m\u001b[0;34m(\u001b[0m\u001b[0;34m)\u001b[0m\u001b[0;34m\u001b[0m\u001b[0;34m\u001b[0m\u001b[0m\n\u001b[0m\u001b[1;32m     10\u001b[0m         \u001b[0moption\u001b[0m\u001b[0;34m=\u001b[0m \u001b[0mop1\u001b[0m\u001b[0;34m[\u001b[0m\u001b[0;36m0\u001b[0m\u001b[0;34m]\u001b[0m\u001b[0;34m\u001b[0m\u001b[0;34m\u001b[0m\u001b[0m\n\u001b[1;32m     11\u001b[0m \u001b[0;34m\u001b[0m\u001b[0m\n",
            "\u001b[0;32m<ipython-input-5-9e9c0cd8a39c>\u001b[0m in \u001b[0;36mmenu\u001b[0;34m()\u001b[0m\n\u001b[1;32m      1\u001b[0m \u001b[0;32mdef\u001b[0m \u001b[0mmenu\u001b[0m\u001b[0;34m(\u001b[0m\u001b[0;34m)\u001b[0m\u001b[0;34m:\u001b[0m \u001b[0;31m#This function display the menu and returns the command.\u001b[0m\u001b[0;34m\u001b[0m\u001b[0;34m\u001b[0m\u001b[0m\n\u001b[1;32m      2\u001b[0m \u001b[0;34m\u001b[0m\u001b[0m\n\u001b[0;32m----> 3\u001b[0;31m   \u001b[0moption\u001b[0m\u001b[0;34m=\u001b[0m\u001b[0minput\u001b[0m\u001b[0;34m(\u001b[0m\u001b[0;34m\"Enter a command: 1&nombre_articulo&cantidad&precio, 2&cedula_cliente, 3 :\"\u001b[0m\u001b[0;34m)\u001b[0m\u001b[0;34m.\u001b[0m\u001b[0msplit\u001b[0m\u001b[0;34m(\u001b[0m\u001b[0;34m\"&\"\u001b[0m\u001b[0;34m)\u001b[0m\u001b[0;34m\u001b[0m\u001b[0;34m\u001b[0m\u001b[0m\n\u001b[0m\u001b[1;32m      4\u001b[0m \u001b[0;34m\u001b[0m\u001b[0m\n\u001b[1;32m      5\u001b[0m   \u001b[0;32mreturn\u001b[0m \u001b[0moption\u001b[0m  \u001b[0;31m#returns the selected command.\u001b[0m\u001b[0;34m\u001b[0m\u001b[0;34m\u001b[0m\u001b[0m\n",
            "\u001b[0;32m/usr/local/lib/python3.6/dist-packages/ipykernel/kernelbase.py\u001b[0m in \u001b[0;36mraw_input\u001b[0;34m(self, prompt)\u001b[0m\n\u001b[1;32m    702\u001b[0m             \u001b[0mself\u001b[0m\u001b[0;34m.\u001b[0m\u001b[0m_parent_ident\u001b[0m\u001b[0;34m,\u001b[0m\u001b[0;34m\u001b[0m\u001b[0;34m\u001b[0m\u001b[0m\n\u001b[1;32m    703\u001b[0m             \u001b[0mself\u001b[0m\u001b[0;34m.\u001b[0m\u001b[0m_parent_header\u001b[0m\u001b[0;34m,\u001b[0m\u001b[0;34m\u001b[0m\u001b[0;34m\u001b[0m\u001b[0m\n\u001b[0;32m--> 704\u001b[0;31m             \u001b[0mpassword\u001b[0m\u001b[0;34m=\u001b[0m\u001b[0;32mFalse\u001b[0m\u001b[0;34m,\u001b[0m\u001b[0;34m\u001b[0m\u001b[0;34m\u001b[0m\u001b[0m\n\u001b[0m\u001b[1;32m    705\u001b[0m         )\n\u001b[1;32m    706\u001b[0m \u001b[0;34m\u001b[0m\u001b[0m\n",
            "\u001b[0;32m/usr/local/lib/python3.6/dist-packages/ipykernel/kernelbase.py\u001b[0m in \u001b[0;36m_input_request\u001b[0;34m(self, prompt, ident, parent, password)\u001b[0m\n\u001b[1;32m    732\u001b[0m             \u001b[0;32mexcept\u001b[0m \u001b[0mKeyboardInterrupt\u001b[0m\u001b[0;34m:\u001b[0m\u001b[0;34m\u001b[0m\u001b[0;34m\u001b[0m\u001b[0m\n\u001b[1;32m    733\u001b[0m                 \u001b[0;31m# re-raise KeyboardInterrupt, to truncate traceback\u001b[0m\u001b[0;34m\u001b[0m\u001b[0;34m\u001b[0m\u001b[0;34m\u001b[0m\u001b[0m\n\u001b[0;32m--> 734\u001b[0;31m                 \u001b[0;32mraise\u001b[0m \u001b[0mKeyboardInterrupt\u001b[0m\u001b[0;34m\u001b[0m\u001b[0;34m\u001b[0m\u001b[0m\n\u001b[0m\u001b[1;32m    735\u001b[0m             \u001b[0;32melse\u001b[0m\u001b[0;34m:\u001b[0m\u001b[0;34m\u001b[0m\u001b[0;34m\u001b[0m\u001b[0m\n\u001b[1;32m    736\u001b[0m                 \u001b[0;32mbreak\u001b[0m\u001b[0;34m\u001b[0m\u001b[0;34m\u001b[0m\u001b[0m\n",
            "\u001b[0;31mKeyboardInterrupt\u001b[0m: "
          ]
        }
      ]
    }
  ]
}