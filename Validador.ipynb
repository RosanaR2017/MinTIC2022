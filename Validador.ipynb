{
  "nbformat": 4,
  "nbformat_minor": 0,
  "metadata": {
    "colab": {
      "name": "Validador.ipynb",
      "provenance": [],
      "collapsed_sections": [],
      "authorship_tag": "ABX9TyMGAnjmoMIZXL2fb628UmC4",
      "include_colab_link": true
    },
    "kernelspec": {
      "name": "python3",
      "display_name": "Python 3"
    }
  },
  "cells": [
    {
      "cell_type": "markdown",
      "metadata": {
        "id": "view-in-github",
        "colab_type": "text"
      },
      "source": [
        "<a href=\"https://colab.research.google.com/github/RosanaR2017/MinTIC2022/blob/master/Validador.ipynb\" target=\"_parent\"><img src=\"https://colab.research.google.com/assets/colab-badge.svg\" alt=\"Open In Colab\"/></a>"
      ]
    },
    {
      "cell_type": "markdown",
      "metadata": {
        "id": "qO_LIFMdl0sD"
      },
      "source": [
        "##Validador\n",
        "Límite de entrega: Wednesday, 30 de September de 2020, 23:59\n",
        "Número máximo de ficheros: 1\n",
        "Tipo de trabajo: Individual\n",
        "A un niño pequeño le gusta escribir al reves. Sin embargo ha escrito unas cadenas muy largas y se tiene la traducción. El necesita su ayuda para saber si lo que ha escrito al revés es lo mismo que piensa.\n",
        "\n",
        "Entrada:\n",
        "Dos Strings uno con la cadena al derecho y otro con la posible cadena invertida.\n",
        "Salida:\n",
        "\n",
        "La palabra SI si la palabra corresponde a su versión invertida.  La palabra NO en caso contrario.\n",
        "\n",
        "Ejemplo:\n",
        "\n",
        "Input1:No tengo ningún consejo para darle a aquel que desespera.\n",
        "Input2:.arepsesed euq leuqa a elrad arap ojesnoc núgnin ognet oN        \n",
        "\n",
        "Output:SI"
      ]
    },
    {
      "cell_type": "markdown",
      "metadata": {
        "id": "pMbpYQiaudlX"
      },
      "source": [
        ""
      ]
    },
    {
      "cell_type": "markdown",
      "metadata": {
        "id": "LABr7zkouSSP"
      },
      "source": [
        "En caso de que no desee ingresar las entradas, puede usar estas entradas predeterminadas:"
      ]
    },
    {
      "cell_type": "markdown",
      "metadata": {
        "id": "ZuQDco3AutLP"
      },
      "source": [
        ""
      ]
    },
    {
      "cell_type": "code",
      "metadata": {
        "id": "Z0anK-7qmsG_"
      },
      "source": [
        "s1=\"No tengo ningún consejo para darle a aquel que desespera.\"\n",
        "s2=\".arepsesed euq leuqa a elrad arap ojesnoc núgnin ognet oN\""
      ],
      "execution_count": 1,
      "outputs": []
    },
    {
      "cell_type": "markdown",
      "metadata": {
        "id": "TIkI4ljyugf0"
      },
      "source": [
        "Primer paso, ejecutar secuencialmente las siguientes cadenas de código:"
      ]
    },
    {
      "cell_type": "code",
      "metadata": {
        "id": "L9TC3C-pmhC9"
      },
      "source": [
        "import sys\n",
        "\n",
        "def palindrome(s1,s2):\n",
        "    l1=len(s1) #Returns the length of the string l1\n",
        "    l2=len(s2) #Returns the length of the string l2\n",
        "    \n",
        "    s3=\"\"\n",
        "  \n",
        "    for i in range(l1-1,-1,-1):\n",
        "      s3=s3+s1[i]\n",
        "\n",
        "    \n",
        "    if s3==s2:\n",
        "      return \"SI\"\n",
        "    return \"NO\""
      ],
      "execution_count": 38,
      "outputs": []
    },
    {
      "cell_type": "code",
      "metadata": {
        "id": "-z8YVwI_uQTC",
        "outputId": "8c29799d-b217-419c-d8b1-720bc4461f05",
        "colab": {
          "base_uri": "https://localhost:8080/",
          "height": 67
        }
      },
      "source": [
        "def main():\n",
        "    try:\n",
        "        s1=input(\"Ingrese cadena al derecho:\")\n",
        "        s2=input(\"Ingrese cadena invertida:\")\n",
        "        \n",
        "        print(palindrome(s1,s2))  # Call the function that checks if its a palindrome.\n",
        "\n",
        "    except ValueError:  \n",
        "        sys.exit(\"Entrada no carácteres no válida.\") \n",
        "\n",
        "if __name__== \"__main__\" :          \n",
        "    main()"
      ],
      "execution_count": 39,
      "outputs": [
        {
          "output_type": "stream",
          "text": [
            "Ingrese cadena al derecho:\"No tengo ningún consejo para darle a aquel que desespera.\"\n",
            "Ingrese cadena invertida:\".arepsesed euq leuqa a elrad arap ojesnoc núgnin ognet oN\"\n",
            "SI\n"
          ],
          "name": "stdout"
        }
      ]
    },
    {
      "cell_type": "markdown",
      "metadata": {
        "id": "L8TPUQQZsmFX"
      },
      "source": [
        "Author: Rosana Rodríguez Milanés."
      ]
    }
  ]
}