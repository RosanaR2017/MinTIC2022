{
  "nbformat": 4,
  "nbformat_minor": 0,
  "metadata": {
    "colab": {
      "name": "integrales.ipynb",
      "provenance": [],
      "collapsed_sections": [],
      "authorship_tag": "ABX9TyOuW4y36deHQzcqIVT5aqTq",
      "include_colab_link": true
    },
    "kernelspec": {
      "name": "python3",
      "display_name": "Python 3"
    }
  },
  "cells": [
    {
      "cell_type": "markdown",
      "metadata": {
        "id": "view-in-github",
        "colab_type": "text"
      },
      "source": [
        "<a href=\"https://colab.research.google.com/github/RosanaR2017/MinTIC2022/blob/master/integrales.ipynb\" target=\"_parent\"><img src=\"https://colab.research.google.com/assets/colab-badge.svg\" alt=\"Open In Colab\"/></a>"
      ]
    },
    {
      "cell_type": "markdown",
      "metadata": {
        "id": "BhCF1UC_P3ax"
      },
      "source": [
        "Se desea desarrollar una competencia de integrales en una Universidad. Para motivar a los estudiantes sin importar el nivel, se desea que inicialmente los problemas sean sencillos. Para esto se ha seleccionado un problema y se le ha preguntado a n personas sus opiniones. Si al menos una persona dijo que el problema era difícil el problema será difícil y se procederá a cambiar dicho ejercicio.\n",
        "\n",
        "Entrada: La primera línea contiene la cantidad n de personas que dieron su opinión sobre un problema dado. La siguiente línea contiene n números que pueden ser 0 o 1. Si es un cero la persona piensa que el problema es fácil, si es un 1, la persona piensa que es un problema difícil: Salida Muestre la palabra FACIL si el problema es fácil de acuerdo con las respuestas dadas o DIFICIL si al menos una persona piensa que el problema es difícil.\n",
        "\n",
        "<table style=\"width:100%\">\n",
        "  <tr>\n",
        "    <th>INPUT</th>\n",
        "    <th>OUTPUT</th> \n",
        "  </tr>\n",
        "  <tr>\n",
        "    <td style=\"text-align:center\">3</td>\n",
        "    <td style=\"text-align:center\">Fácil</td>\n",
        "  </tr>\n",
        "  <tr>\n",
        "    <td style=\"text-align:center\">101</td>\n",
        "    <td style=\"text-align:center\"></td>\n",
        "  </tr>\n",
        "</table>\n",
        "\n",
        "\n",
        "\n",
        "\n",
        "\n"
      ]
    },
    {
      "cell_type": "code",
      "metadata": {
        "id": "NdMYi1jYPYLC",
        "outputId": "bbf55557-06d9-470c-9a1e-8e6de996dce4",
        "colab": {
          "base_uri": "https://localhost:8080/",
          "height": 67
        }
      },
      "source": [
        "import sys\n",
        "\n",
        "def output_(m):\n",
        "  if m.count('1',0,len(m))>=1:\n",
        "    return True\n",
        "  else:\n",
        "    return False\n",
        "\n",
        "def main():\n",
        "  n=input() #\"Ingrese numero de personas: \"\n",
        "  m=input() #\"Ingrese 0 ó 1: \"\n",
        "\n",
        "  if output_(m) == True:\n",
        "    print(\"DIFICIL\",sep=\"\")\n",
        "  else:\n",
        "    print(\"FACIL\",sep=\"\")\n",
        "\n",
        "if __name__== \"__main__\" :\n",
        "    main()"
      ],
      "execution_count": 7,
      "outputs": [
        {
          "output_type": "stream",
          "text": [
            "Ingrese numero de personas3\n",
            "Ingrese 0 ó 1101\n",
            "FACIL\n"
          ],
          "name": "stdout"
        }
      ]
    }
  ]
}