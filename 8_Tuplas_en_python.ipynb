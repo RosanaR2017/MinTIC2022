{
  "nbformat": 4,
  "nbformat_minor": 0,
  "metadata": {
    "kernelspec": {
      "display_name": "Python 3",
      "language": "python",
      "name": "python3"
    },
    "language_info": {
      "codemirror_mode": {
        "name": "ipython",
        "version": 3
      },
      "file_extension": ".py",
      "mimetype": "text/x-python",
      "name": "python",
      "nbconvert_exporter": "python",
      "pygments_lexer": "ipython3",
      "version": "3.7.3"
    },
    "colab": {
      "name": "8_Tuplas_en_python.ipynb",
      "provenance": [],
      "collapsed_sections": [
        "mxORf_CCSvnJ",
        "yrkPoYt1Svnb",
        "PgaPrUvgSvnm",
        "l0jVURLqSvn4",
        "xVId-tdYSvn8",
        "vYDwhCn4SvoA",
        "cY94zxRuSvoQ"
      ],
      "include_colab_link": true
    }
  },
  "cells": [
    {
      "cell_type": "markdown",
      "metadata": {
        "id": "view-in-github",
        "colab_type": "text"
      },
      "source": [
        "<a href=\"https://colab.research.google.com/github/RosanaR2017/MinTIC2022/blob/master/8_Tuplas_en_python.ipynb\" target=\"_parent\"><img src=\"https://colab.research.google.com/assets/colab-badge.svg\" alt=\"Open In Colab\"/></a>"
      ]
    },
    {
      "cell_type": "markdown",
      "metadata": {
        "id": "xPfFnUnCSvmN"
      },
      "source": [
        "## Tuplas en Python\n",
        "\n",
        "Una tupla es una secuencia de elementos que puede almacenar datos heterogeneos tales como: float, strings, listas y diccionarios. Como los strings, las tuplas son inmutables."
      ]
    },
    {
      "cell_type": "code",
      "metadata": {
        "id": "9E2IIxwjSvmS",
        "outputId": "090efe19-6db9-4372-806a-8ee999a05862"
      },
      "source": [
        "#Así se crea una tupla vacía\n",
        "tupl = ()\n",
        "print(tupl)"
      ],
      "execution_count": null,
      "outputs": [
        {
          "output_type": "stream",
          "text": [
            "()\n"
          ],
          "name": "stdout"
        }
      ]
    },
    {
      "cell_type": "code",
      "metadata": {
        "id": "3m9esa4OSvmb",
        "outputId": "a4970b41-a083-414f-cb72-e182ca7bc8e1"
      },
      "source": [
        "#Una tupla con un elemento\n",
        "tupl2 = (\"Este es un elemento\", ) #python requiere la coma final para considerarla como una tupla\n",
        "print(tupl2)"
      ],
      "execution_count": null,
      "outputs": [
        {
          "output_type": "stream",
          "text": [
            "('Este es un elemento',)\n"
          ],
          "name": "stdout"
        }
      ]
    },
    {
      "cell_type": "markdown",
      "metadata": {
        "id": "rD0iuksASvmk"
      },
      "source": [
        "Para crear una tupla, se almacenan los valores separados por comas:"
      ]
    },
    {
      "cell_type": "code",
      "metadata": {
        "id": "bXJrNTJNSvml",
        "outputId": "4409fc7f-545d-4f63-f0ea-d2744f409375"
      },
      "source": [
        "tup = (1, 2, 3, 4.6, 'hola', 'a') #una tupla de 6 elementos\n",
        "print(tup)"
      ],
      "execution_count": null,
      "outputs": [
        {
          "output_type": "stream",
          "text": [
            "(1, 2, 3, 4.6, 'hola', 'a')\n"
          ],
          "name": "stdout"
        }
      ]
    },
    {
      "cell_type": "markdown",
      "metadata": {
        "id": "8rHL09KZSvmp"
      },
      "source": [
        "## Variables"
      ]
    },
    {
      "cell_type": "markdown",
      "metadata": {
        "id": "-1ZpvMbySvmp"
      },
      "source": [
        "Si se define una variable así, también se creará una tupla:"
      ]
    },
    {
      "cell_type": "code",
      "metadata": {
        "id": "PL8z4dbzSvmq"
      },
      "source": [
        "x = () # x igual a tupla vacía"
      ],
      "execution_count": null,
      "outputs": []
    },
    {
      "cell_type": "code",
      "metadata": {
        "id": "jlZGQYThSvmt"
      },
      "source": [
        "tup = (1, 2, 3, 4.6, 'hola', 'a') #tup es igual a esta tupla con 6 elementos"
      ],
      "execution_count": null,
      "outputs": []
    },
    {
      "cell_type": "code",
      "metadata": {
        "id": "hznB-spCSvm1",
        "outputId": "51e22326-7a1c-4719-ecfc-5945e71ce75f"
      },
      "source": [
        "a = 1, 2, 3\n",
        "a"
      ],
      "execution_count": null,
      "outputs": [
        {
          "output_type": "execute_result",
          "data": {
            "text/plain": [
              "(1, 2, 3)"
            ]
          },
          "metadata": {
            "tags": []
          },
          "execution_count": 3
        }
      ]
    },
    {
      "cell_type": "code",
      "metadata": {
        "id": "lwL1tWfcSvm5",
        "outputId": "92177e86-4423-4ab3-ebc8-be1e0ea28393"
      },
      "source": [
        "type(a)"
      ],
      "execution_count": null,
      "outputs": [
        {
          "output_type": "execute_result",
          "data": {
            "text/plain": [
              "tuple"
            ]
          },
          "metadata": {
            "tags": []
          },
          "execution_count": 4
        }
      ]
    },
    {
      "cell_type": "markdown",
      "metadata": {
        "id": "0lBXuuZtSvm8"
      },
      "source": [
        "## Tuplas anidadas\n",
        "\n",
        "Es posible crear tuplas que tengan tuplas como elementos (anidadas)"
      ]
    },
    {
      "cell_type": "code",
      "metadata": {
        "id": "7GlD-EtASvm9",
        "outputId": "69b631ac-94ac-4457-edff-94fce412602c"
      },
      "source": [
        "tuple1 = (0, 1, 2, 3)\n",
        "tuple2 = ('A', 'B', 'C')\n",
        "tuple3 = (tuple1, tuple2)\n",
        "print(tuple3)\n",
        "print(tuple3[0])\n",
        "print(tuple3[1][0])"
      ],
      "execution_count": null,
      "outputs": [
        {
          "output_type": "stream",
          "text": [
            "((0, 1, 2, 3), ('A', 'B', 'C'))\n",
            "(0, 1, 2, 3)\n",
            "A\n"
          ],
          "name": "stdout"
        }
      ]
    },
    {
      "cell_type": "markdown",
      "metadata": {
        "id": "iU5z-N-GSvnF"
      },
      "source": [
        "## Operador concatenar\n",
        "\n",
        "Concatena dos tuplas"
      ]
    },
    {
      "cell_type": "code",
      "metadata": {
        "id": "KvJoUb4iSvnG",
        "outputId": "71c7cddb-77eb-44db-d6c0-6c43c258c45e"
      },
      "source": [
        "tup1 = ('A', 'B', 'C', 'E')\n",
        "tup2 = (1,2,3,4,5)\n",
        "tup3 = tup1 + tup2\n",
        "print(tup3)"
      ],
      "execution_count": null,
      "outputs": [
        {
          "output_type": "stream",
          "text": [
            "('A', 'B', 'C', 'E', 1, 2, 3, 4, 5)\n"
          ],
          "name": "stdout"
        }
      ]
    },
    {
      "cell_type": "markdown",
      "metadata": {
        "id": "mxORf_CCSvnJ"
      },
      "source": [
        "## Operador repetir\n",
        "\n",
        "Crea una tupla con múltiples copias de una tupla, tantas como se defina:"
      ]
    },
    {
      "cell_type": "code",
      "metadata": {
        "id": "VatdDdo_SvnJ",
        "outputId": "ea5b8743-f4c0-45f8-d67d-4b7b6c3d4944",
        "colab": {
          "base_uri": "https://localhost:8080/",
          "height": 0
        }
      },
      "source": [
        "tup2 = (1,2,3,4,5)\n",
        "tup3 = tup2*3\n",
        "print(tup3)\n",
        "tup4 = ('Abc', 'Bcd')\n",
        "tup5 = tup4*2\n",
        "print(tup5)"
      ],
      "execution_count": 1,
      "outputs": [
        {
          "output_type": "stream",
          "text": [
            "(1, 2, 3, 4, 5, 1, 2, 3, 4, 5, 1, 2, 3, 4, 5)\n",
            "('Abc', 'Bcd', 'Abc', 'Bcd')\n"
          ],
          "name": "stdout"
        }
      ]
    },
    {
      "cell_type": "markdown",
      "metadata": {
        "id": "tWzKuTgkSvnM"
      },
      "source": [
        "## Operador Comparar\n",
        "\n",
        "Es posible comparar dos tuplas con ==, >=, <, <=, != Se comparan de izquierda a derecha:"
      ]
    },
    {
      "cell_type": "code",
      "metadata": {
        "id": "WU36CXXNSvnN",
        "outputId": "423a3c97-1464-4517-d2e0-bf547547f8ec"
      },
      "source": [
        "print( ('Rojas', 123) < ('Rosas', 123) )\n",
        "print( ('Rosas', 123) == ('rosas', 123) )\n",
        "print( ('Rosas', 123) > ('Rosas', 23) )"
      ],
      "execution_count": null,
      "outputs": [
        {
          "output_type": "stream",
          "text": [
            "True\n",
            "False\n",
            "True\n"
          ],
          "name": "stdout"
        }
      ]
    },
    {
      "cell_type": "code",
      "metadata": {
        "id": "fD3XLMCiSvnU",
        "outputId": "344306ea-c320-401a-8624-74f4ca4e7e3e"
      },
      "source": [
        "a = ('Rojas', 123)\n",
        "b = (\"Rojas\", 123)\n",
        "c = (\"Rosas\", 123)\n",
        "\n",
        "print( a == b )\n",
        "print( a == c )\n"
      ],
      "execution_count": null,
      "outputs": [
        {
          "output_type": "stream",
          "text": [
            "True\n",
            "False\n"
          ],
          "name": "stdout"
        }
      ]
    },
    {
      "cell_type": "markdown",
      "metadata": {
        "id": "pulplIL-SvnX"
      },
      "source": [
        "## Operador is"
      ]
    },
    {
      "cell_type": "markdown",
      "metadata": {
        "id": "vRaS5pN_SvnY"
      },
      "source": [
        "Se puede usar el operador is para determinar si dos tuplas son la misma (referencian al mismo objeto). "
      ]
    },
    {
      "cell_type": "code",
      "metadata": {
        "id": "4u4tucJPSvnY",
        "outputId": "c7fb674d-86e7-44dd-f8b8-f301f9e82875"
      },
      "source": [
        "a = ('Rojas', 123)\n",
        "b = (\"Rojas\", 123)\n",
        "c = a\n",
        "print(id(a))\n",
        "print(id(b))\n",
        "print( a == b )\n",
        "print( a is b )\n",
        "print( a == c )\n",
        "print( a is c )"
      ],
      "execution_count": null,
      "outputs": [
        {
          "output_type": "stream",
          "text": [
            "1822246202952\n",
            "1822245909448\n",
            "True\n",
            "False\n",
            "True\n",
            "True\n"
          ],
          "name": "stdout"
        }
      ]
    },
    {
      "cell_type": "markdown",
      "metadata": {
        "id": "yrkPoYt1Svnb"
      },
      "source": [
        "## Operador subindice [] (subscript)"
      ]
    },
    {
      "cell_type": "markdown",
      "metadata": {
        "id": "txbAMjfDSvnc"
      },
      "source": [
        "Para acceder a un valor particular de una tupla se especifica su posición con corchetes ```[]```:"
      ]
    },
    {
      "cell_type": "code",
      "metadata": {
        "id": "Re0QYpSuSvnc",
        "outputId": "25478f33-ace1-4a14-e4cf-2297ac44e12c",
        "colab": {
          "base_uri": "https://localhost:8080/",
          "height": 0
        }
      },
      "source": [
        "avengers = (\"Ironman\", \"Spiderman\", \"Ant-man\", \"Hulk\")\n",
        "print(avengers[0]) \n",
        "print(avengers[3])\n",
        "print(avengers[-1])    \n",
        "print(avengers[-3])   "
      ],
      "execution_count": 6,
      "outputs": [
        {
          "output_type": "stream",
          "text": [
            "Ironman\n",
            "Hulk\n",
            "Hulk\n",
            "Spiderman\n"
          ],
          "name": "stdout"
        }
      ]
    },
    {
      "cell_type": "markdown",
      "metadata": {
        "id": "PgaPrUvgSvnm"
      },
      "source": [
        "### Subtuplas\n",
        "\n",
        "Obtener una parte de la tupla [inicio:fin:incremento]"
      ]
    },
    {
      "cell_type": "code",
      "metadata": {
        "id": "IpiWY2XUSvnn",
        "outputId": "bf90d2ae-5dc5-4d60-ab20-776e6273e5db",
        "colab": {
          "base_uri": "https://localhost:8080/",
          "height": 0
        }
      },
      "source": [
        "avengers[1:3]"
      ],
      "execution_count": 7,
      "outputs": [
        {
          "output_type": "execute_result",
          "data": {
            "text/plain": [
              "('Spiderman', 'Ant-man')"
            ]
          },
          "metadata": {
            "tags": []
          },
          "execution_count": 7
        }
      ]
    },
    {
      "cell_type": "code",
      "metadata": {
        "id": "xotPgJ8iSvnq",
        "outputId": "77fcdc27-adba-48b5-cee4-cbdc6395fa7c",
        "colab": {
          "base_uri": "https://localhost:8080/",
          "height": 0
        }
      },
      "source": [
        "avengers[::-1]"
      ],
      "execution_count": 8,
      "outputs": [
        {
          "output_type": "execute_result",
          "data": {
            "text/plain": [
              "('Hulk', 'Ant-man', 'Spiderman', 'Ironman')"
            ]
          },
          "metadata": {
            "tags": []
          },
          "execution_count": 8
        }
      ]
    },
    {
      "cell_type": "markdown",
      "metadata": {
        "id": "VDHFRbTgSvnv"
      },
      "source": [
        "Si se intenta indexar por fuera de la tupla, se retorna una tupla vacía:"
      ]
    },
    {
      "cell_type": "code",
      "metadata": {
        "id": "MnWK74ChSvnx",
        "outputId": "f86d7014-563e-4393-a368-fa9f3ea5e81b",
        "colab": {
          "base_uri": "https://localhost:8080/",
          "height": 0
        }
      },
      "source": [
        "avengers[len(avengers):len(avengers)+1]"
      ],
      "execution_count": 9,
      "outputs": [
        {
          "output_type": "execute_result",
          "data": {
            "text/plain": [
              "()"
            ]
          },
          "metadata": {
            "tags": []
          },
          "execution_count": 9
        }
      ]
    },
    {
      "cell_type": "markdown",
      "metadata": {
        "id": "l0jVURLqSvn4"
      },
      "source": [
        "## Consultando una tupla  (operador in)\n",
        "\n",
        "Para saber si un elemento está en una tupla se puede utilizar el operador in:"
      ]
    },
    {
      "cell_type": "code",
      "metadata": {
        "id": "Z8Mj48sHSvn5",
        "outputId": "6c216109-bcd7-4abe-cb56-0a65676f2ea9"
      },
      "source": [
        "text = ('cien', 'años', 'de', 'soledad' )\n",
        "if 'años' in text:\n",
        "    print('yes')"
      ],
      "execution_count": null,
      "outputs": [
        {
          "output_type": "stream",
          "text": [
            "yes\n"
          ],
          "name": "stdout"
        }
      ]
    },
    {
      "cell_type": "markdown",
      "metadata": {
        "id": "xVId-tdYSvn8"
      },
      "source": [
        "## Iterando una tupla "
      ]
    },
    {
      "cell_type": "markdown",
      "metadata": {
        "id": "qGan7V5kSvn9"
      },
      "source": [
        "Es posible iterar una tupla usando el ciclo for:"
      ]
    },
    {
      "cell_type": "code",
      "metadata": {
        "id": "WFSkeGq4Svn9",
        "outputId": "f6b144a7-65d3-4699-c5fa-0159a0dbfca1"
      },
      "source": [
        "s = (\"hola\", \"amigos\", \"mios\")\n",
        "for palabra in s: #para cada palabra de la tupla\n",
        "    print(palabra + \",\", end=' ')"
      ],
      "execution_count": null,
      "outputs": [
        {
          "output_type": "stream",
          "text": [
            "hola, amigos, mios, "
          ],
          "name": "stdout"
        }
      ]
    },
    {
      "cell_type": "markdown",
      "metadata": {
        "id": "vYDwhCn4SvoA"
      },
      "source": [
        "## Asignando múltiples variables \n",
        "\n",
        "Es posible asignarle los valores a un grupo de variables usando la asignación y el concepto de tupla."
      ]
    },
    {
      "cell_type": "code",
      "metadata": {
        "id": "Box9enUxSvoE",
        "outputId": "99283929-9f6e-44da-ad98-07441b0356a1"
      },
      "source": [
        "tupla = (1, -2, 3)\n",
        "a, b, c = tupla\n",
        "print('a=', a)\n",
        "print('b=', b)\n",
        "print('c=', c)"
      ],
      "execution_count": null,
      "outputs": [
        {
          "output_type": "stream",
          "text": [
            "a= 1\n",
            "b= -2\n",
            "c= 3\n"
          ],
          "name": "stdout"
        }
      ]
    },
    {
      "cell_type": "markdown",
      "metadata": {
        "id": "RH-e49AjSvoJ"
      },
      "source": [
        "## Intercambiando variables\n",
        "\n",
        "Es posible intercambiar los valores de un grupo de variables usando la\n",
        "asignación y el concepto de tupla."
      ]
    },
    {
      "cell_type": "code",
      "metadata": {
        "id": "Tz3DM5IMSvoK",
        "outputId": "ea9e97db-0d8f-4847-e3de-d1b98c03e15a"
      },
      "source": [
        "a = 1\n",
        "b = 3\n",
        "a, b = b, a\n",
        "print('a=', a)\n",
        "print('b=', b)"
      ],
      "execution_count": null,
      "outputs": [
        {
          "output_type": "stream",
          "text": [
            "a= 3\n",
            "b= 1\n"
          ],
          "name": "stdout"
        }
      ]
    },
    {
      "cell_type": "markdown",
      "metadata": {
        "id": "MnPHIo-LSvoN"
      },
      "source": [
        "## Tuplas y funciones\n",
        "\n",
        "Es posible retornar más de un valor en una función usando el concepto de tupla:"
      ]
    },
    {
      "cell_type": "code",
      "metadata": {
        "id": "mf_KvipWSvoN",
        "outputId": "1a4a9de8-cf68-4e8a-b13b-b3ce68e7d37b"
      },
      "source": [
        "def minmax( a, b ):\n",
        "  if a<b:\n",
        "    return a, b\n",
        "  else:\n",
        "    return b,a\n",
        "\n",
        "x, y = minmax( 5, 13 )\n",
        "print('min=', x, 'max=', y)\n",
        "x, y = minmax( 12, -4)\n",
        "print('min=', x, 'max=', y)"
      ],
      "execution_count": null,
      "outputs": [
        {
          "output_type": "stream",
          "text": [
            "min= 5 max= 13\n",
            "min= -4 max= 12\n"
          ],
          "name": "stdout"
        }
      ]
    },
    {
      "cell_type": "markdown",
      "metadata": {
        "id": "cY94zxRuSvoQ"
      },
      "source": [
        "## Métodos de tuplas"
      ]
    },
    {
      "cell_type": "markdown",
      "metadata": {
        "id": "d2Y2pc8JSvoR"
      },
      "source": [
        "Longitud (dimensión) de la tupla: "
      ]
    },
    {
      "cell_type": "code",
      "metadata": {
        "id": "Y84AhRDGSvoV",
        "outputId": "41864bbf-7650-409b-e10d-26760d0703a1"
      },
      "source": [
        "tup = (1,2,3,4)\n",
        "nombre = (\"Minch\", \"Yoda\")\n",
        "trabajo = (\"Stars\", \"War\", \"Movie\")\n",
        "print(len(tup))\n",
        "print(len(nombre))\n",
        "print(len(trabajo))"
      ],
      "execution_count": null,
      "outputs": [
        {
          "output_type": "stream",
          "text": [
            "4\n",
            "2\n",
            "3\n"
          ],
          "name": "stdout"
        }
      ]
    },
    {
      "cell_type": "markdown",
      "metadata": {
        "id": "cMn4E50lSvoc"
      },
      "source": [
        "## Contando\n",
        "\n",
        "El método count obtiene las veces que un elemento se encuentra en una tupla."
      ]
    },
    {
      "cell_type": "code",
      "metadata": {
        "id": "wi6GrIquSvoc",
        "outputId": "237aab9c-30d3-4f85-ebbf-85549869f73b"
      },
      "source": [
        "tupla = (4, 3, 8, 8, 2, 5, 4, 6, 8, 9)\n",
        "print(tupla.count(2))\n",
        "print(tupla.count(8))\n",
        "print(tupla.count(5))"
      ],
      "execution_count": null,
      "outputs": [
        {
          "output_type": "stream",
          "text": [
            "1\n",
            "3\n",
            "1\n"
          ],
          "name": "stdout"
        }
      ]
    },
    {
      "cell_type": "markdown",
      "metadata": {
        "id": "r2dfFq6ySvof"
      },
      "source": [
        "## Buscando \n",
        "\n",
        "El método index obtiene la primera ocurrencia de un elemento en una tupla."
      ]
    },
    {
      "cell_type": "code",
      "metadata": {
        "id": "Duzu_yHDSvof",
        "outputId": "d09fc2d5-cb4f-4db6-c011-69181f5d5582"
      },
      "source": [
        "tupla = (4, 3, 8, 8, 2, 5, 4, 6, 8, 9)\n",
        "print(tupla.index(2))\n",
        "print(tupla.index(8))\n",
        "print(tupla.index(5))"
      ],
      "execution_count": null,
      "outputs": [
        {
          "output_type": "stream",
          "text": [
            "4\n",
            "2\n",
            "5\n"
          ],
          "name": "stdout"
        }
      ]
    },
    {
      "cell_type": "markdown",
      "metadata": {
        "id": "DD7VWDqoSvoi"
      },
      "source": [
        "## Máximo y mínimo (max, min) \n",
        "\n",
        "El método max/min obtiene el maximo/mínimo elemento de una tupla.\n"
      ]
    },
    {
      "cell_type": "code",
      "metadata": {
        "id": "u0fS7Hg2Svon"
      },
      "source": [
        "t = (4,5,-1,6,7) "
      ],
      "execution_count": null,
      "outputs": []
    },
    {
      "cell_type": "code",
      "metadata": {
        "id": "Ya1RfTPmSvoq",
        "outputId": "76eff7fa-c163-4156-afa4-aa61b4848c56"
      },
      "source": [
        "max(t)"
      ],
      "execution_count": null,
      "outputs": [
        {
          "output_type": "execute_result",
          "data": {
            "text/plain": [
              "7"
            ]
          },
          "metadata": {
            "tags": []
          },
          "execution_count": 59
        }
      ]
    },
    {
      "cell_type": "code",
      "metadata": {
        "id": "4fQHpj7RSvot",
        "outputId": "803a5e06-79e9-42b1-ecb2-418e6acbba56"
      },
      "source": [
        "min(t)"
      ],
      "execution_count": null,
      "outputs": [
        {
          "output_type": "execute_result",
          "data": {
            "text/plain": [
              "-1"
            ]
          },
          "metadata": {
            "tags": []
          },
          "execution_count": 60
        }
      ]
    },
    {
      "cell_type": "code",
      "metadata": {
        "id": "QwL9ASUfSvov"
      },
      "source": [
        "t = (4,-1,4.0,-2)"
      ],
      "execution_count": null,
      "outputs": []
    },
    {
      "cell_type": "code",
      "metadata": {
        "id": "vCXvvhcBSvox",
        "outputId": "d215f78c-30e0-4e17-9040-ace97388dbca"
      },
      "source": [
        "max(t)"
      ],
      "execution_count": null,
      "outputs": [
        {
          "output_type": "execute_result",
          "data": {
            "text/plain": [
              "4"
            ]
          },
          "metadata": {
            "tags": []
          },
          "execution_count": 32
        }
      ]
    },
    {
      "cell_type": "code",
      "metadata": {
        "id": "4BkYIzfXSvo5",
        "outputId": "a168f3ac-27e0-45a1-84d1-a1ca0a5ae5c4"
      },
      "source": [
        "t = (4.0,-1,4,-2)\n",
        "max(t)"
      ],
      "execution_count": null,
      "outputs": [
        {
          "output_type": "execute_result",
          "data": {
            "text/plain": [
              "4.0"
            ]
          },
          "metadata": {
            "tags": []
          },
          "execution_count": 13
        }
      ]
    },
    {
      "cell_type": "code",
      "metadata": {
        "id": "7s7RiaEXSvo8",
        "outputId": "b7bd5a7c-ad32-4cd3-ea56-67b6e4cbd356"
      },
      "source": [
        "tup1 = ('alice', 'bob', 'zorg')\n",
        "max(tup1)"
      ],
      "execution_count": null,
      "outputs": [
        {
          "output_type": "execute_result",
          "data": {
            "text/plain": [
              "'zorg'"
            ]
          },
          "metadata": {
            "tags": []
          },
          "execution_count": 61
        }
      ]
    },
    {
      "cell_type": "code",
      "metadata": {
        "id": "pvbDvvISSvo-",
        "outputId": "47c8f505-110c-48f1-f51e-37a09408b239"
      },
      "source": [
        "min(tup1)"
      ],
      "execution_count": null,
      "outputs": [
        {
          "output_type": "execute_result",
          "data": {
            "text/plain": [
              "'alice'"
            ]
          },
          "metadata": {
            "tags": []
          },
          "execution_count": 35
        }
      ]
    },
    {
      "cell_type": "markdown",
      "metadata": {
        "id": "7AHweM0gSvpB"
      },
      "source": [
        "## De cadena a tupla\n",
        "\n",
        "El método tuple se usa para crear tuplas a partir de otros objetos, aquí se usa para convertir una cadena de carácteres a tupla."
      ]
    },
    {
      "cell_type": "code",
      "metadata": {
        "id": "2DO9-GfuSvpB",
        "outputId": "8eef85c2-57a1-4611-f789-c31f576977d2"
      },
      "source": [
        "magician = 'Dumbledore'\n",
        "tm = tuple(magician) \n",
        "print(tm)"
      ],
      "execution_count": null,
      "outputs": [
        {
          "output_type": "stream",
          "text": [
            "('D', 'u', 'm', 'b', 'l', 'e', 'd', 'o', 'r', 'e')\n"
          ],
          "name": "stdout"
        }
      ]
    },
    {
      "cell_type": "markdown",
      "metadata": {
        "id": "-6k99YPESvpI"
      },
      "source": [
        "## La palabra del"
      ]
    },
    {
      "cell_type": "markdown",
      "metadata": {
        "id": "ZWl2GeQMSvpJ"
      },
      "source": [
        "```del``` se puede utilizar para eliminar una tupla del notebook"
      ]
    },
    {
      "cell_type": "code",
      "metadata": {
        "id": "QFkru5j_SvpK"
      },
      "source": [
        "del(tm)\n",
        "#tm"
      ],
      "execution_count": null,
      "outputs": []
    },
    {
      "cell_type": "markdown",
      "metadata": {
        "id": "JyVjJGBNSvpN"
      },
      "source": [
        "## Desempacar (unpacking) de variables\n",
        "\n",
        "Una forma rápida de desempacar y asignar variables de una tupla es la siguiente:"
      ]
    },
    {
      "cell_type": "code",
      "metadata": {
        "id": "erjUxvK1SvpO",
        "outputId": "4b82046c-f4ca-4b67-d48d-5164c313e700"
      },
      "source": [
        "\n",
        "tup1 = (1, 2, 3)\n",
        "a, b, c = tup1\n",
        "print('a:', a, 'b:', b, 'c:', c)\n",
        "#Si se intentan obtener más valores de los que tiene la tupla se obtendrá el error: ```ValueError```\n",
        "tup1 = (5,6)\n",
        "#a,b,c = tup1 #ValueError!"
      ],
      "execution_count": null,
      "outputs": [
        {
          "output_type": "stream",
          "text": [
            "a: 1 b: 2 c: 3\n"
          ],
          "name": "stdout"
        }
      ]
    },
    {
      "cell_type": "markdown",
      "metadata": {
        "id": "gZdDCB7QSvpU"
      },
      "source": [
        "## La función ```map(function, tuple|list)```"
      ]
    },
    {
      "cell_type": "markdown",
      "metadata": {
        "id": "XXGgPjVbSvpa"
      },
      "source": [
        "Ejecuta una función para cada uno de los valores de una tupla o una lista. Un truco muy usado es leer todos los valores de una tupla en una sola línea:"
      ]
    },
    {
      "cell_type": "code",
      "metadata": {
        "id": "1aF_gw7ISvpa",
        "outputId": "77d011d8-3dde-4894-bb72-19bb00d761c3"
      },
      "source": [
        "t = tuple(map(int, input().split(' '))) #digite por ejemplo 1 2 3\n",
        "print(t) \n",
        "print(t[0] + t[1])"
      ],
      "execution_count": null,
      "outputs": [
        {
          "output_type": "stream",
          "text": [
            "1 2 3\n",
            "(1, 2, 3)\n",
            "3\n"
          ],
          "name": "stdout"
        }
      ]
    },
    {
      "cell_type": "markdown",
      "metadata": {
        "id": "ZZRqCgvwSvpe"
      },
      "source": [
        "## Ejercicio 1\n",
        "\n",
        "Obtener por código el elemento 20 de la siguiente tupla:\n",
        "\n"
      ]
    },
    {
      "cell_type": "code",
      "metadata": {
        "id": "8sLb7Hs9Svpf"
      },
      "source": [
        "aTuple = (\"Naranjita\", [10, 20, 30], (5, 15, 25))"
      ],
      "execution_count": null,
      "outputs": []
    },
    {
      "cell_type": "code",
      "metadata": {
        "id": "46wocwa9Svpi",
        "outputId": "5bd42df7-801a-47ac-b442-1c1c8abb97a3",
        "colab": {
          "base_uri": "https://localhost:8080/",
          "height": 34
        }
      },
      "source": [
        "print(aTuple[1][1])"
      ],
      "execution_count": null,
      "outputs": [
        {
          "output_type": "stream",
          "text": [
            "20\n"
          ],
          "name": "stdout"
        }
      ]
    },
    {
      "cell_type": "markdown",
      "metadata": {
        "id": "GzIs1K_YSvpr"
      },
      "source": [
        "## Ejercicio 2\n",
        "\n",
        "Dados dos números enteros construya una función que retorne al mismo tiempo el cociente y el residuo de la división utilizando tuplas:\n",
        "\n",
        "<table>\n",
        "    <tr>\n",
        "    <td>input</td><td>output</td>\n",
        "    <tr>\n",
        "    <tr>\n",
        "    <td>10<br>3</td><td>cociente: 3<br>residuo: 1</td>\n",
        "    <tr>\n",
        "<table>"
      ]
    },
    {
      "cell_type": "code",
      "metadata": {
        "id": "XmIHmpH2Svpr",
        "outputId": "73f96eac-928c-48d8-f1ad-52fc0b969ed2",
        "colab": {
          "base_uri": "https://localhost:8080/",
          "height": 34
        }
      },
      "source": [
        "def mod_res(a,b):\n",
        "  a=10//3\n",
        "  b=10%3\n",
        "  return a,b \n",
        "\n",
        "a,b=mod_res(10,3)\n",
        "print(a,\",\",b,sep=\"\")\n"
      ],
      "execution_count": null,
      "outputs": [
        {
          "output_type": "stream",
          "text": [
            "3,1\n"
          ],
          "name": "stdout"
        }
      ]
    },
    {
      "cell_type": "markdown",
      "metadata": {
        "id": "h82D3PW4Svpx"
      },
      "source": [
        "## Ejercicio 3 - Distancia entre dos puntos\n",
        "\n",
        "Utilizando tuplas elabore una función que retorne la distancia entre dos puntos $p$ y $q$ definidos en un espacio de 3 dimensiones:\n",
        "\n",
        "La distancia corresponde a aplicar: $d = \\sqrt{(x_2-x_1)^2 + (y_2-y_1)^2 + (z_2-z_1)^2}$ \n",
        "\n",
        "\n",
        "![](https://github.com/arleserp/MinTIC2022/blob/master/images/3dpoints.gif?raw=1)\n",
        "\n",
        "### Entrada\n",
        "La entrada corresponde a los valores de cada una de las coordenadas x, y, z de cada punto:\n",
        "\n",
        "### Salida\n",
        "Un único valor correspondiente a la distancia entre los dos puntos.\n",
        "\n",
        "<table>\n",
        "    <tr>\n",
        "        <td>Input</td><td>output</td>\n",
        "    </tr>\n",
        "    <tr>\n",
        "        <td>0 1 1<br>-1 -1 4</td><td>3.7416573867739413</td>\n",
        "    </tr>\n",
        "    \n",
        "Para una mayor referencia puede consultar [distancias en el espacio](https://www.vadenumeros.es/segundo/distancias-en-el-espacio.htm)"
      ]
    },
    {
      "cell_type": "code",
      "metadata": {
        "id": "Eqs_Zv4fmian"
      },
      "source": [
        "def dist(p1,p2):\n",
        "  d= ((p1[0]-p2[0])**2 +(p1[1]-p2[1])**2 +(p1[2]-p2[2])**2)**(1/2)\n",
        "  return d"
      ],
      "execution_count": 41,
      "outputs": []
    },
    {
      "cell_type": "code",
      "metadata": {
        "id": "gkCCMeAZSvpy",
        "outputId": "6b57838a-9ded-45e8-a300-008061a1dbcb",
        "colab": {
          "base_uri": "https://localhost:8080/",
          "height": 134
        }
      },
      "source": [
        "p1 = tuple(map(int, input(\"Please enter x1,y1,z1:\\n\").split(',')))\n",
        "p2 = tuple(map(int, input(\"Please enter x2,y2,z2:\\n\").split(',')))\n",
        "\n",
        "print(p1[0], p1[1], p1[2], sep=\",\")\n",
        "print(p2[0], p2[1], p2[2], sep=\",\")\n",
        "print(dist(p1,p2))"
      ],
      "execution_count": 42,
      "outputs": [
        {
          "output_type": "stream",
          "text": [
            "Please enter x1,y1,z1:\n",
            "0,1,1\n",
            "Please enter x2,y2,z2:\n",
            "-1,-1,4\n",
            "0,1,1\n",
            "-1,-1,4\n",
            "3.7416573867739413\n"
          ],
          "name": "stdout"
        }
      ]
    },
    {
      "cell_type": "code",
      "metadata": {
        "id": "0QHwijAdVBDD"
      },
      "source": [
        ""
      ],
      "execution_count": null,
      "outputs": []
    },
    {
      "cell_type": "markdown",
      "metadata": {
        "id": "n2LnKSVVSvp0"
      },
      "source": [
        "# Referencias:\n",
        "\n",
        "https://www.geeksforgeeks.org/tuples-in-python/\n",
        "\n",
        "Das, B. N. (2017). Learn Python in 7 Days. Packt Publishing Ltd.\n",
        "\n",
        "[https://www.wolframalpha.com](https://www.wolframalpha.com/input/?i=distance+between+two+points&assumption=%7B%22MC%22%2C+%22%22%7D+-%3E+%7B%22Calculator%22%7D&assumption=%7B%22F%22%2C+%22DistanceCalculator%22%2C+%22point1%22%7D+-%3E%22%7B0%2C+1%2C+1%7D%22&assumption=%7B%22F%22%2C+%22DistanceCalculator%22%2C+%22point2%22%7D+-%3E%22%7B-1%2C+-1%2C+4%7D%22)\n",
        "\n",
        "https://www.vadenumeros.es/segundo/distancias-en-el-espacio.htm\n",
        "\n",
        "Gomez, J, Rodriguez A y Cubides C. La ciencia de Programar. Universidad Nacional de Colombia.\n",
        "\n",
        "Rodríguez, A (2020). Curso de Programación en Python. https://github.com/arleserp/cursopython"
      ]
    }
  ]
}